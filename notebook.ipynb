{
 "cells": [
  {
   "cell_type": "markdown",
   "id": "7e8114d3",
   "metadata": {},
   "source": [
    "## Chatbot to take inputs from a user and translate into sql script to query the database"
   ]
  },
  {
   "cell_type": "markdown",
   "id": "42dbbd1a",
   "metadata": {},
   "source": []
  },
  {
   "cell_type": "markdown",
   "id": "b7e2492a",
   "metadata": {},
   "source": [
    "### Import libraries"
   ]
  },
  {
   "cell_type": "code",
   "execution_count": 2,
   "id": "7ae6ce75",
   "metadata": {},
   "outputs": [],
   "source": [
    "import sqlite3\n",
    "import os\n",
    "from fastapi import FastAPI\n",
    "from pydantic import BaseModel"
   ]
  },
  {
   "cell_type": "markdown",
   "id": "7ec74c93",
   "metadata": {},
   "source": [
    "### Query the stock.db to pull rows from respective tables\n",
    "\n",
    "- Table: signals(stock, signal_type, confidence, date)\n",
    "- Table: pnl(stock, profit, loss, date)\n",
    "- Table: top_indices(index_name, performance, date)\n",
    "- Table: news(stock, headline, date, sentiment)"
   ]
  },
  {
   "cell_type": "code",
   "execution_count": 4,
   "id": "6b4143b2",
   "metadata": {},
   "outputs": [
    {
     "data": {
      "text/plain": [
       "'c:\\\\Gen_ai_projects\\\\navya_chatbot\\\\stock_chatbot\\\\stockbot\\\\app'"
      ]
     },
     "execution_count": 4,
     "metadata": {},
     "output_type": "execute_result"
    }
   ],
   "source": [
    "os.getcwd()"
   ]
  },
  {
   "cell_type": "code",
   "execution_count": 5,
   "id": "1558fb1b",
   "metadata": {},
   "outputs": [
    {
     "name": "stdout",
     "output_type": "stream",
     "text": [
      "c:\\Gen_ai_projects\\navya_chatbot\\stock_chatbot\\stockbot\\app\\stock.db\n"
     ]
    }
   ],
   "source": [
    "DB_PATH = os.path.join(os.getcwd(), 'stock.db')\n",
    "DB_PATH = os.path.abspath(DB_PATH)\n",
    "\n",
    "print(DB_PATH)"
   ]
  },
  {
   "cell_type": "code",
   "execution_count": 7,
   "id": "bdeae24b",
   "metadata": {},
   "outputs": [
    {
     "name": "stdout",
     "output_type": "stream",
     "text": [
      "[{'stock': 'CG', 'signal_type': 'BUY', 'confidence': 0.85, 'date': '2025-07-22'}, {'stock': 'NIMB', 'signal_type': 'SELL', 'confidence': 0.78, 'date': '2025-07-22'}, {'stock': 'SBIN', 'signal_type': 'HOLD', 'confidence': 0.5, 'date': '2025-07-22'}]\n"
     ]
    }
   ],
   "source": [
    "from sql_handler import run_sql_query\n",
    "\n",
    "query = \"SELECT * FROM signals WHERE date = '2025-07-22';\"\n",
    "results = run_sql_query(query)\n",
    "print(results)"
   ]
  },
  {
   "cell_type": "markdown",
   "id": "841f74fa",
   "metadata": {},
   "source": [
    "### Generate SQL query from normal text using Ollama framework and Mistral foundation model"
   ]
  },
  {
   "cell_type": "code",
   "execution_count": 12,
   "id": "ddf1da60",
   "metadata": {},
   "outputs": [],
   "source": [
    "# import sys\n",
    "# import os\n",
    "# sys.path.append(os.path.abspath('c:/Gen_ai_projects/navya_chatbot/stock_chatbot/stockbot/app'))\n",
    "\n",
    "from prompt_template import SQL_GEN_TEMPLATE, ANSWER_GEN_TEMPLATE\n",
    "from llm_client import call_ollama_to_generate_sql, explain_sql_result_ollama\n"
   ]
  },
  {
   "cell_type": "code",
   "execution_count": 13,
   "id": "801cbe96",
   "metadata": {},
   "outputs": [
    {
     "name": "stdout",
     "output_type": "stream",
     "text": [
      "Prompt sent to model:\n",
      " \n",
      "You are a helpful assistant. Convert the user question to an SQL query based on the following schema:\n",
      "\n",
      "- Table: signals(stock, signal_type, confidence, date)\n",
      "- Table: pnl(stock, profit, loss, date)\n",
      "- Table: top_indices(index_name, performance, date)\n",
      "- Table: news(stock, headline, date, sentiment)\n",
      "\n",
      "Question: What is the signal for CG on 2025-07-22?\n",
      "SQL:\n",
      "\n",
      "Generated SQL:\n",
      " SELECT signal_type, confidence\n",
      "FROM signals\n",
      "WHERE stock = 'CG' AND date = '2025-07-22';\n"
     ]
    }
   ],
   "source": [
    "question = \"What is the signal for CG on 2025-07-22?\"\n",
    "result = call_ollama_to_generate_sql(question)\n",
    "print(\"Generated SQL:\\n\", result)"
   ]
  },
  {
   "cell_type": "markdown",
   "id": "efafbda7",
   "metadata": {},
   "source": [
    "### Use the generated SQL query to pull relevant information from the respective table and schema"
   ]
  },
  {
   "cell_type": "code",
   "execution_count": 14,
   "id": "94c76508",
   "metadata": {},
   "outputs": [],
   "source": [
    "from llm_client import call_ollama_to_generate_sql, explain_sql_result_ollama\n",
    "from prompt_template import SQL_GEN_TEMPLATE, ANSWER_GEN_TEMPLATE\n",
    "from sql_handler import run_sql_query"
   ]
  },
  {
   "cell_type": "code",
   "execution_count": 16,
   "id": "b3b0e3a0",
   "metadata": {},
   "outputs": [
    {
     "name": "stdout",
     "output_type": "stream",
     "text": [
      "Prompt sent to model:\n",
      " \n",
      "You are a helpful assistant. Convert the user question to an SQL query based on the following schema:\n",
      "\n",
      "- Table: signals(stock, signal_type, confidence, date)\n",
      "- Table: pnl(stock, profit, loss, date)\n",
      "- Table: top_indices(index_name, performance, date)\n",
      "- Table: news(stock, headline, date, sentiment)\n",
      "\n",
      "Question: What is the signal for CG on 2025-07-22?\n",
      "SQL:\n",
      "\n",
      "[{'signal_type': 'BUY', 'confidence': 0.85}]\n"
     ]
    }
   ],
   "source": [
    "question = \"What is the signal for CG on 2025-07-22?\"\n",
    "sql_query = call_ollama_to_generate_sql(question)\n",
    "table_output = run_sql_query(sql_query)\n",
    "print(table_output)"
   ]
  },
  {
   "cell_type": "markdown",
   "id": "0f1030da",
   "metadata": {},
   "source": [
    "### Present the generated result in normal english"
   ]
  },
  {
   "cell_type": "code",
   "execution_count": 18,
   "id": "442284e3",
   "metadata": {},
   "outputs": [
    {
     "name": "stdout",
     "output_type": "stream",
     "text": [
      "{'user_query': 'What is the signal for CG on 2025-07-22?', 'generated_sql': \"SELECT signals.signal_type, signals.confidence\\nFROM signals\\nWHERE signals.stock = 'CG' AND signals.date = '2025-07-22';\", 'result': [{'signal_type': 'BUY', 'confidence': 0.85}], 'natural_response': \"On July 22, 2025, the signal for CG is a BUY signal. The confidence level of this prediction is quite high at 85%. This means there's a strong likelihood that it could be a good time to invest in CG shares if you follow financial market recommendations based on signals like these. However, remember that investing always carries risk and it's important to do your own research before making any investment decisions.\"}\n"
     ]
    }
   ],
   "source": [
    "# Step 2: Execute SQL\n",
    "natural_response = explain_sql_result_ollama(question, table_output)\n",
    "print({\"user_query\": question,\n",
    "        \"generated_sql\": sql_query,\n",
    "        \"result\": table_output,\n",
    "        \"natural_response\": natural_response\n",
    "})"
   ]
  },
  {
   "cell_type": "code",
   "execution_count": 19,
   "id": "65290981",
   "metadata": {},
   "outputs": [
    {
     "name": "stdout",
     "output_type": "stream",
     "text": [
      "On July 22, 2025, the signal for CG is a BUY signal. The confidence level of this prediction is quite high at 85%. This means there's a strong likelihood that it could be a good time to invest in CG shares if you follow financial market recommendations based on signals like these. However, remember that investing always carries risk and it's important to do your own research before making any investment decisions.\n"
     ]
    }
   ],
   "source": [
    "print(natural_response)"
   ]
  },
  {
   "cell_type": "code",
   "execution_count": null,
   "id": "5fa0a69d",
   "metadata": {},
   "outputs": [],
   "source": []
  }
 ],
 "metadata": {
  "kernelspec": {
   "display_name": "stockbot (3.13.5)",
   "language": "python",
   "name": "python3"
  },
  "language_info": {
   "codemirror_mode": {
    "name": "ipython",
    "version": 3
   },
   "file_extension": ".py",
   "mimetype": "text/x-python",
   "name": "python",
   "nbconvert_exporter": "python",
   "pygments_lexer": "ipython3",
   "version": "3.13.5"
  }
 },
 "nbformat": 4,
 "nbformat_minor": 5
}
